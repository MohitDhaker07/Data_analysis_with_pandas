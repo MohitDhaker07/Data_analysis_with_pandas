{
 "cells": [
  {
   "cell_type": "markdown",
   "id": "afcf651e",
   "metadata": {},
   "source": [
    "# Series"
   ]
  },
  {
   "cell_type": "code",
   "execution_count": 1,
   "id": "7c8817cd",
   "metadata": {},
   "outputs": [],
   "source": [
    "import pandas as pd\n",
    "import numpy as np"
   ]
  },
  {
   "cell_type": "markdown",
   "id": "061f05f6",
   "metadata": {},
   "source": [
    "### Creating a Series Object with a Python List "
   ]
  },
  {
   "cell_type": "code",
   "execution_count": 2,
   "id": "50702cbd",
   "metadata": {
    "scrolled": true
   },
   "outputs": [
    {
     "data": {
      "text/plain": [
       "0     mohit\n",
       "1     rohit\n",
       "2      alex\n",
       "3      paul\n",
       "4    steven\n",
       "5       ray\n",
       "dtype: object"
      ]
     },
     "execution_count": 2,
     "metadata": {},
     "output_type": "execute_result"
    }
   ],
   "source": [
    "names = ['mohit', 'rohit', 'alex', 'paul', 'steven', 'ray']\n",
    "pd.Series(names)"
   ]
  },
  {
   "cell_type": "markdown",
   "id": "6c9e1145",
   "metadata": {},
   "source": [
    "### Creating a Series Object with a Python Dictionary "
   ]
  },
  {
   "cell_type": "code",
   "execution_count": 3,
   "id": "a7aae55c",
   "metadata": {},
   "outputs": [
    {
     "data": {
      "text/plain": [
       "name       [mohit, alex, rohit]\n",
       "roll_no               [1, 2, 3]\n",
       "age                [10, 10, 10]\n",
       "dtype: object"
      ]
     },
     "execution_count": 3,
     "metadata": {},
     "output_type": "execute_result"
    }
   ],
   "source": [
    "students = {\n",
    "   \"name\" : ['mohit','alex', 'rohit'],\n",
    "    \"roll_no\" : [1,2,3],\n",
    "    \"age\" : [10,10,10]\n",
    "}\n",
    "\n",
    "pd.Series(students)"
   ]
  },
  {
   "cell_type": "markdown",
   "id": "4593155b",
   "metadata": {},
   "source": [
    "#### Some methods on series "
   ]
  },
  {
   "cell_type": "code",
   "execution_count": 4,
   "id": "4af5c47d",
   "metadata": {},
   "outputs": [
    {
     "data": {
      "text/plain": [
       "0    1.22\n",
       "1    2.65\n",
       "2    1.20\n",
       "dtype: float64"
      ]
     },
     "execution_count": 4,
     "metadata": {},
     "output_type": "execute_result"
    }
   ],
   "source": [
    "prices = pd.Series([1.22,2.65,1.2])\n",
    "prices"
   ]
  },
  {
   "cell_type": "code",
   "execution_count": 5,
   "id": "0861b456",
   "metadata": {},
   "outputs": [
    {
     "data": {
      "text/plain": [
       "5.07"
      ]
     },
     "execution_count": 5,
     "metadata": {},
     "output_type": "execute_result"
    }
   ],
   "source": [
    "prices.sum()"
   ]
  },
  {
   "cell_type": "code",
   "execution_count": 6,
   "id": "635a2d63",
   "metadata": {},
   "outputs": [
    {
     "data": {
      "text/plain": [
       "3.8795999999999995"
      ]
     },
     "execution_count": 6,
     "metadata": {},
     "output_type": "execute_result"
    }
   ],
   "source": [
    "prices.product()"
   ]
  },
  {
   "cell_type": "code",
   "execution_count": 7,
   "id": "30bd26c6",
   "metadata": {},
   "outputs": [
    {
     "data": {
      "text/plain": [
       "1.6900000000000002"
      ]
     },
     "execution_count": 7,
     "metadata": {},
     "output_type": "execute_result"
    }
   ],
   "source": [
    "prices.mean()"
   ]
  },
  {
   "cell_type": "markdown",
   "id": "2e24ed1f",
   "metadata": {},
   "source": [
    "### Intro to Attributes "
   ]
  },
  {
   "cell_type": "markdown",
   "id": "f17a7d18",
   "metadata": {},
   "source": [
    "Attributes are just static details about an object we do not execute them, where as methods are executable and have paranthesis at the end "
   ]
  },
  {
   "cell_type": "code",
   "execution_count": 8,
   "id": "cfe22871",
   "metadata": {
    "scrolled": false
   },
   "outputs": [
    {
     "data": {
      "text/plain": [
       "0       handsome\n",
       "1       charming\n",
       "2    intelligent\n",
       "dtype: object"
      ]
     },
     "execution_count": 8,
     "metadata": {},
     "output_type": "execute_result"
    }
   ],
   "source": [
    "adjectives = pd.Series(['handsome', 'charming', 'intelligent'])\n",
    "adjectives"
   ]
  },
  {
   "cell_type": "code",
   "execution_count": 9,
   "id": "1bfab5b1",
   "metadata": {},
   "outputs": [
    {
     "data": {
      "text/plain": [
       "3"
      ]
     },
     "execution_count": 9,
     "metadata": {},
     "output_type": "execute_result"
    }
   ],
   "source": [
    "adjectives.size"
   ]
  },
  {
   "cell_type": "code",
   "execution_count": 10,
   "id": "104ff1b2",
   "metadata": {},
   "outputs": [
    {
     "data": {
      "text/plain": [
       "True"
      ]
     },
     "execution_count": 10,
     "metadata": {},
     "output_type": "execute_result"
    }
   ],
   "source": [
    "adjectives.is_unique"
   ]
  },
  {
   "cell_type": "code",
   "execution_count": 11,
   "id": "fb9a530f",
   "metadata": {},
   "outputs": [
    {
     "data": {
      "text/plain": [
       "RangeIndex(start=0, stop=3, step=1)"
      ]
     },
     "execution_count": 11,
     "metadata": {},
     "output_type": "execute_result"
    }
   ],
   "source": [
    "adjectives.index"
   ]
  },
  {
   "cell_type": "markdown",
   "id": "9cab5dc9",
   "metadata": {},
   "source": [
    "## Parameters and Arguments"
   ]
  },
  {
   "cell_type": "code",
   "execution_count": 12,
   "id": "168a9d46",
   "metadata": {},
   "outputs": [],
   "source": [
    "#parameter - The name we give to an expected input \n",
    "#Argument - The concrete value we provide to a parameter "
   ]
  },
  {
   "cell_type": "code",
   "execution_count": 13,
   "id": "1b5138d7",
   "metadata": {},
   "outputs": [
    {
     "data": {
      "text/plain": [
       "friday       apple\n",
       "saturday    orange\n",
       "sunday       mango\n",
       "dtype: object"
      ]
     },
     "execution_count": 13,
     "metadata": {},
     "output_type": "execute_result"
    }
   ],
   "source": [
    "fruits = ['apple', 'orange', ' mango']\n",
    "weekends = ['friday','saturday','sunday']\n",
    "\n",
    "pd.Series(data = fruits, index = weekends)"
   ]
  },
  {
   "cell_type": "markdown",
   "id": "da4b2450",
   "metadata": {},
   "source": [
    "## Import Series with pd.read_cvs Function"
   ]
  },
  {
   "cell_type": "code",
   "execution_count": 14,
   "id": "a115116a",
   "metadata": {},
   "outputs": [],
   "source": [
    "movie_data = pd.read_csv('DigiDB_movelist.csv', usecols=[\"Move\"] ).squeeze()     #It will import a dataframe "
   ]
  },
  {
   "cell_type": "code",
   "execution_count": 15,
   "id": "1b0cec8c",
   "metadata": {},
   "outputs": [
    {
     "data": {
      "text/plain": [
       "0      Wolkenapalm I\n",
       "1     Wolkenapalm II\n",
       "2    Wolkenapalm III\n",
       "3      Burst Flame I\n",
       "4     Burst Flame II\n",
       "Name: Move, dtype: object"
      ]
     },
     "execution_count": 15,
     "metadata": {},
     "output_type": "execute_result"
    }
   ],
   "source": [
    "movie_data.head(5)"
   ]
  },
  {
   "cell_type": "code",
   "execution_count": 16,
   "id": "7a286e3c",
   "metadata": {},
   "outputs": [
    {
     "data": {
      "text/plain": [
       "382    Garuru Tomahawk\n",
       "383     Fist of Athena\n",
       "384     Supreme Cannon\n",
       "385    Dark Prominence\n",
       "386       Plasma Shoot\n",
       "Name: Move, dtype: object"
      ]
     },
     "execution_count": 16,
     "metadata": {},
     "output_type": "execute_result"
    }
   ],
   "source": [
    " movie_data.tail(5)"
   ]
  },
  {
   "cell_type": "markdown",
   "id": "b0295630",
   "metadata": {},
   "source": [
    "### Passing Series to Python's Build-in Functions "
   ]
  },
  {
   "cell_type": "code",
   "execution_count": 17,
   "id": "9456f6a0",
   "metadata": {},
   "outputs": [
    {
     "data": {
      "text/plain": [
       "387"
      ]
     },
     "execution_count": 17,
     "metadata": {},
     "output_type": "execute_result"
    }
   ],
   "source": [
    "len(movie_data)  #length of series "
   ]
  },
  {
   "cell_type": "code",
   "execution_count": 18,
   "id": "7f95eebf",
   "metadata": {},
   "outputs": [
    {
     "data": {
      "text/plain": [
       "pandas.core.series.Series"
      ]
     },
     "execution_count": 18,
     "metadata": {},
     "output_type": "execute_result"
    }
   ],
   "source": [
    "type(movie_data)"
   ]
  },
  {
   "cell_type": "code",
   "execution_count": 19,
   "id": "4b3f961b",
   "metadata": {},
   "outputs": [
    {
     "data": {
      "text/plain": [
       "'Acceleration Boost'"
      ]
     },
     "execution_count": 19,
     "metadata": {},
     "output_type": "execute_result"
    }
   ],
   "source": [
    "sorted(movie_data)\n",
    "dict(movie_data)\n",
    "max(movie_data)\n",
    "min(movie_data)"
   ]
  },
  {
   "cell_type": "code",
   "execution_count": 20,
   "id": "5b4f095a",
   "metadata": {},
   "outputs": [
    {
     "data": {
      "text/plain": [
       "128    Acceleration Boost\n",
       "118        Agility Charge\n",
       "360    Aguichant L\\E8vres\n",
       "162              Air Shot\n",
       "307      Amethyst Mandala\n",
       "Name: Move, dtype: object"
      ]
     },
     "execution_count": 20,
     "metadata": {},
     "output_type": "execute_result"
    }
   ],
   "source": [
    "movie_data.sort_values().head()"
   ]
  },
  {
   "cell_type": "code",
   "execution_count": 21,
   "id": "893540d7",
   "metadata": {},
   "outputs": [
    {
     "data": {
      "text/plain": [
       "0                  X-Heal\n",
       "1                  X-Aura\n",
       "2         Wyvern's Breath\n",
       "3         Wolkenapalm III\n",
       "4          Wolkenapalm II\n",
       "              ...        \n",
       "382      Amethyst Mandala\n",
       "383              Air Shot\n",
       "384    Aguichant L\\E8vres\n",
       "385        Agility Charge\n",
       "386    Acceleration Boost\n",
       "Name: Move, Length: 387, dtype: object"
      ]
     },
     "execution_count": 21,
     "metadata": {},
     "output_type": "execute_result"
    }
   ],
   "source": [
    "movie_data.sort_values(ascending=False, ignore_index=True)"
   ]
  },
  {
   "cell_type": "markdown",
   "id": "785cea03",
   "metadata": {},
   "source": [
    "### Sort Index Method"
   ]
  },
  {
   "cell_type": "code",
   "execution_count": 31,
   "id": "a6c7840e",
   "metadata": {},
   "outputs": [
    {
     "ename": "ValueError",
     "evalue": "No axis named Colum for object type DataFrame",
     "output_type": "error",
     "traceback": [
      "\u001b[1;31m---------------------------------------------------------------------------\u001b[0m",
      "\u001b[1;31mKeyError\u001b[0m                                  Traceback (most recent call last)",
      "File \u001b[1;32m~\\AppData\\Local\\Programs\\Python\\Python310\\lib\\site-packages\\pandas\\core\\generic.py:550\u001b[0m, in \u001b[0;36mNDFrame._get_axis_number\u001b[1;34m(cls, axis)\u001b[0m\n\u001b[0;32m    549\u001b[0m \u001b[38;5;28;01mtry\u001b[39;00m:\n\u001b[1;32m--> 550\u001b[0m     \u001b[38;5;28;01mreturn\u001b[39;00m \u001b[38;5;28;43mcls\u001b[39;49m\u001b[38;5;241;43m.\u001b[39;49m\u001b[43m_AXIS_TO_AXIS_NUMBER\u001b[49m\u001b[43m[\u001b[49m\u001b[43maxis\u001b[49m\u001b[43m]\u001b[49m\n\u001b[0;32m    551\u001b[0m \u001b[38;5;28;01mexcept\u001b[39;00m \u001b[38;5;167;01mKeyError\u001b[39;00m:\n",
      "\u001b[1;31mKeyError\u001b[0m: 'Colum'",
      "\nDuring handling of the above exception, another exception occurred:\n",
      "\u001b[1;31mValueError\u001b[0m                                Traceback (most recent call last)",
      "Input \u001b[1;32mIn [31]\u001b[0m, in \u001b[0;36m<cell line: 1>\u001b[1;34m()\u001b[0m\n\u001b[1;32m----> 1\u001b[0m \u001b[43mpd\u001b[49m\u001b[38;5;241;43m.\u001b[39;49m\u001b[43mread_csv\u001b[49m\u001b[43m(\u001b[49m\u001b[38;5;124;43m'\u001b[39;49m\u001b[38;5;124;43mDigiDB_movelist.csv\u001b[39;49m\u001b[38;5;124;43m'\u001b[39;49m\u001b[43m,\u001b[49m\u001b[43m \u001b[49m\u001b[43mindex_col\u001b[49m\u001b[38;5;241;43m=\u001b[39;49m\u001b[38;5;124;43m\"\u001b[39;49m\u001b[38;5;124;43mType\u001b[39;49m\u001b[38;5;124;43m\"\u001b[39;49m\u001b[43m)\u001b[49m\u001b[38;5;241;43m.\u001b[39;49m\u001b[43msqueeze\u001b[49m\u001b[43m(\u001b[49m\u001b[38;5;124;43m\"\u001b[39;49m\u001b[38;5;124;43mColum\u001b[39;49m\u001b[38;5;124;43m\"\u001b[39;49m\u001b[43m)\u001b[49m\n",
      "File \u001b[1;32m~\\AppData\\Local\\Programs\\Python\\Python310\\lib\\site-packages\\pandas\\core\\generic.py:974\u001b[0m, in \u001b[0;36mNDFrame.squeeze\u001b[1;34m(self, axis)\u001b[0m\n\u001b[0;32m    870\u001b[0m \u001b[38;5;129m@final\u001b[39m\n\u001b[0;32m    871\u001b[0m \u001b[38;5;28;01mdef\u001b[39;00m \u001b[38;5;21msqueeze\u001b[39m(\u001b[38;5;28mself\u001b[39m, axis\u001b[38;5;241m=\u001b[39m\u001b[38;5;28;01mNone\u001b[39;00m):\n\u001b[0;32m    872\u001b[0m     \u001b[38;5;124;03m\"\"\"\u001b[39;00m\n\u001b[0;32m    873\u001b[0m \u001b[38;5;124;03m    Squeeze 1 dimensional axis objects into scalars.\u001b[39;00m\n\u001b[0;32m    874\u001b[0m \n\u001b[1;32m   (...)\u001b[0m\n\u001b[0;32m    972\u001b[0m \u001b[38;5;124;03m    1\u001b[39;00m\n\u001b[0;32m    973\u001b[0m \u001b[38;5;124;03m    \"\"\"\u001b[39;00m\n\u001b[1;32m--> 974\u001b[0m     axis \u001b[38;5;241m=\u001b[39m \u001b[38;5;28mrange\u001b[39m(\u001b[38;5;28mself\u001b[39m\u001b[38;5;241m.\u001b[39m_AXIS_LEN) \u001b[38;5;28;01mif\u001b[39;00m axis \u001b[38;5;129;01mis\u001b[39;00m \u001b[38;5;28;01mNone\u001b[39;00m \u001b[38;5;28;01melse\u001b[39;00m (\u001b[38;5;28;43mself\u001b[39;49m\u001b[38;5;241;43m.\u001b[39;49m\u001b[43m_get_axis_number\u001b[49m\u001b[43m(\u001b[49m\u001b[43maxis\u001b[49m\u001b[43m)\u001b[49m,)\n\u001b[0;32m    975\u001b[0m     \u001b[38;5;28;01mreturn\u001b[39;00m \u001b[38;5;28mself\u001b[39m\u001b[38;5;241m.\u001b[39miloc[\n\u001b[0;32m    976\u001b[0m         \u001b[38;5;28mtuple\u001b[39m(\n\u001b[0;32m    977\u001b[0m             \u001b[38;5;241m0\u001b[39m \u001b[38;5;28;01mif\u001b[39;00m i \u001b[38;5;129;01min\u001b[39;00m axis \u001b[38;5;129;01mand\u001b[39;00m \u001b[38;5;28mlen\u001b[39m(a) \u001b[38;5;241m==\u001b[39m \u001b[38;5;241m1\u001b[39m \u001b[38;5;28;01melse\u001b[39;00m \u001b[38;5;28mslice\u001b[39m(\u001b[38;5;28;01mNone\u001b[39;00m)\n\u001b[0;32m    978\u001b[0m             \u001b[38;5;28;01mfor\u001b[39;00m i, a \u001b[38;5;129;01min\u001b[39;00m \u001b[38;5;28menumerate\u001b[39m(\u001b[38;5;28mself\u001b[39m\u001b[38;5;241m.\u001b[39maxes)\n\u001b[0;32m    979\u001b[0m         )\n\u001b[0;32m    980\u001b[0m     ]\n",
      "File \u001b[1;32m~\\AppData\\Local\\Programs\\Python\\Python310\\lib\\site-packages\\pandas\\core\\generic.py:552\u001b[0m, in \u001b[0;36mNDFrame._get_axis_number\u001b[1;34m(cls, axis)\u001b[0m\n\u001b[0;32m    550\u001b[0m     \u001b[38;5;28;01mreturn\u001b[39;00m \u001b[38;5;28mcls\u001b[39m\u001b[38;5;241m.\u001b[39m_AXIS_TO_AXIS_NUMBER[axis]\n\u001b[0;32m    551\u001b[0m \u001b[38;5;28;01mexcept\u001b[39;00m \u001b[38;5;167;01mKeyError\u001b[39;00m:\n\u001b[1;32m--> 552\u001b[0m     \u001b[38;5;28;01mraise\u001b[39;00m \u001b[38;5;167;01mValueError\u001b[39;00m(\u001b[38;5;124mf\u001b[39m\u001b[38;5;124m\"\u001b[39m\u001b[38;5;124mNo axis named \u001b[39m\u001b[38;5;132;01m{\u001b[39;00maxis\u001b[38;5;132;01m}\u001b[39;00m\u001b[38;5;124m for object type \u001b[39m\u001b[38;5;132;01m{\u001b[39;00m\u001b[38;5;28mcls\u001b[39m\u001b[38;5;241m.\u001b[39m\u001b[38;5;18m__name__\u001b[39m\u001b[38;5;132;01m}\u001b[39;00m\u001b[38;5;124m\"\u001b[39m)\n",
      "\u001b[1;31mValueError\u001b[0m: No axis named Colum for object type DataFrame"
     ]
    }
   ],
   "source": [
    "pd.read_csv('DigiDB_movelist.csv', index_col=\"Type\").squeeze(\"colums\n",
    "                                                             \")"
   ]
  },
  {
   "cell_type": "code",
   "execution_count": null,
   "id": "917f92f9",
   "metadata": {},
   "outputs": [],
   "source": []
  },
  {
   "cell_type": "code",
   "execution_count": null,
   "id": "8a8b3616",
   "metadata": {},
   "outputs": [],
   "source": []
  },
  {
   "cell_type": "code",
   "execution_count": null,
   "id": "2a735a79",
   "metadata": {},
   "outputs": [],
   "source": []
  },
  {
   "cell_type": "code",
   "execution_count": null,
   "id": "9e3c9eb1",
   "metadata": {},
   "outputs": [],
   "source": []
  },
  {
   "cell_type": "code",
   "execution_count": null,
   "id": "7cce2639",
   "metadata": {},
   "outputs": [],
   "source": []
  },
  {
   "cell_type": "code",
   "execution_count": null,
   "id": "ba1ab333",
   "metadata": {},
   "outputs": [],
   "source": []
  },
  {
   "cell_type": "code",
   "execution_count": null,
   "id": "91d0de52",
   "metadata": {},
   "outputs": [],
   "source": []
  },
  {
   "cell_type": "code",
   "execution_count": null,
   "id": "096f00f2",
   "metadata": {},
   "outputs": [],
   "source": []
  }
 ],
 "metadata": {
  "kernelspec": {
   "display_name": "Python 3 (ipykernel)",
   "language": "python",
   "name": "python3"
  },
  "language_info": {
   "codemirror_mode": {
    "name": "ipython",
    "version": 3
   },
   "file_extension": ".py",
   "mimetype": "text/x-python",
   "name": "python",
   "nbconvert_exporter": "python",
   "pygments_lexer": "ipython3",
   "version": "3.10.5"
  }
 },
 "nbformat": 4,
 "nbformat_minor": 5
}

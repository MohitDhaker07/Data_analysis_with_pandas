{
 "cells": [
  {
   "cell_type": "markdown",
   "id": "afcf651e",
   "metadata": {},
   "source": [
    "# Series"
   ]
  },
  {
   "cell_type": "code",
   "execution_count": 1,
   "id": "7c8817cd",
   "metadata": {},
   "outputs": [],
   "source": [
    "import pandas as pd\n",
    "import numpy as np"
   ]
  },
  {
   "cell_type": "markdown",
   "id": "061f05f6",
   "metadata": {},
   "source": [
    "### Creating a Series Object with a Python List "
   ]
  },
  {
   "cell_type": "code",
   "execution_count": 2,
   "id": "50702cbd",
   "metadata": {
    "scrolled": true
   },
   "outputs": [
    {
     "data": {
      "text/plain": [
       "0     mohit\n",
       "1     rohit\n",
       "2      alex\n",
       "3      paul\n",
       "4    steven\n",
       "5       ray\n",
       "dtype: object"
      ]
     },
     "execution_count": 2,
     "metadata": {},
     "output_type": "execute_result"
    }
   ],
   "source": [
    "names = ['mohit', 'rohit', 'alex', 'paul', 'steven', 'ray']\n",
    "pd.Series(names)"
   ]
  },
  {
   "cell_type": "markdown",
   "id": "6c9e1145",
   "metadata": {},
   "source": [
    "### Creating a Series Object with a Python Dictionary "
   ]
  },
  {
   "cell_type": "code",
   "execution_count": 3,
   "id": "a7aae55c",
   "metadata": {},
   "outputs": [
    {
     "data": {
      "text/plain": [
       "name       [mohit, alex, rohit]\n",
       "roll_no               [1, 2, 3]\n",
       "age                [10, 10, 10]\n",
       "dtype: object"
      ]
     },
     "execution_count": 3,
     "metadata": {},
     "output_type": "execute_result"
    }
   ],
   "source": [
    "students = {\n",
    "   \"name\" : ['mohit','alex', 'rohit'],\n",
    "    \"roll_no\" : [1,2,3],\n",
    "    \"age\" : [10,10,10]\n",
    "}\n",
    "\n",
    "pd.Series(students)"
   ]
  },
  {
   "cell_type": "markdown",
   "id": "4593155b",
   "metadata": {},
   "source": [
    "#### Some methods on series "
   ]
  },
  {
   "cell_type": "code",
   "execution_count": 4,
   "id": "4af5c47d",
   "metadata": {},
   "outputs": [
    {
     "data": {
      "text/plain": [
       "0    1.22\n",
       "1    2.65\n",
       "2    1.20\n",
       "dtype: float64"
      ]
     },
     "execution_count": 4,
     "metadata": {},
     "output_type": "execute_result"
    }
   ],
   "source": [
    "prices = pd.Series([1.22,2.65,1.2])\n",
    "prices"
   ]
  },
  {
   "cell_type": "code",
   "execution_count": 5,
   "id": "0861b456",
   "metadata": {},
   "outputs": [
    {
     "data": {
      "text/plain": [
       "5.07"
      ]
     },
     "execution_count": 5,
     "metadata": {},
     "output_type": "execute_result"
    }
   ],
   "source": [
    "prices.sum()"
   ]
  },
  {
   "cell_type": "code",
   "execution_count": 6,
   "id": "635a2d63",
   "metadata": {},
   "outputs": [
    {
     "data": {
      "text/plain": [
       "3.8795999999999995"
      ]
     },
     "execution_count": 6,
     "metadata": {},
     "output_type": "execute_result"
    }
   ],
   "source": [
    "prices.product()"
   ]
  },
  {
   "cell_type": "code",
   "execution_count": 7,
   "id": "30bd26c6",
   "metadata": {},
   "outputs": [
    {
     "data": {
      "text/plain": [
       "1.6900000000000002"
      ]
     },
     "execution_count": 7,
     "metadata": {},
     "output_type": "execute_result"
    }
   ],
   "source": [
    "prices.mean()"
   ]
  },
  {
   "cell_type": "markdown",
   "id": "2e24ed1f",
   "metadata": {},
   "source": [
    "### Intro to Attributes "
   ]
  },
  {
   "cell_type": "markdown",
   "id": "f17a7d18",
   "metadata": {},
   "source": [
    "Attributes are just static details about an object we do not execute them, where as methods are executable and have paranthesis at the end "
   ]
  },
  {
   "cell_type": "code",
   "execution_count": 8,
   "id": "cfe22871",
   "metadata": {
    "scrolled": false
   },
   "outputs": [
    {
     "data": {
      "text/plain": [
       "0       handsome\n",
       "1       charming\n",
       "2    intelligent\n",
       "dtype: object"
      ]
     },
     "execution_count": 8,
     "metadata": {},
     "output_type": "execute_result"
    }
   ],
   "source": [
    "adjectives = pd.Series(['handsome', 'charming', 'intelligent'])\n",
    "adjectives"
   ]
  },
  {
   "cell_type": "code",
   "execution_count": 9,
   "id": "1bfab5b1",
   "metadata": {},
   "outputs": [
    {
     "data": {
      "text/plain": [
       "3"
      ]
     },
     "execution_count": 9,
     "metadata": {},
     "output_type": "execute_result"
    }
   ],
   "source": [
    "adjectives.size"
   ]
  },
  {
   "cell_type": "code",
   "execution_count": 10,
   "id": "104ff1b2",
   "metadata": {},
   "outputs": [
    {
     "data": {
      "text/plain": [
       "True"
      ]
     },
     "execution_count": 10,
     "metadata": {},
     "output_type": "execute_result"
    }
   ],
   "source": [
    "adjectives.is_unique"
   ]
  },
  {
   "cell_type": "code",
   "execution_count": 11,
   "id": "fb9a530f",
   "metadata": {},
   "outputs": [
    {
     "data": {
      "text/plain": [
       "RangeIndex(start=0, stop=3, step=1)"
      ]
     },
     "execution_count": 11,
     "metadata": {},
     "output_type": "execute_result"
    }
   ],
   "source": [
    "adjectives.index"
   ]
  },
  {
   "cell_type": "markdown",
   "id": "9cab5dc9",
   "metadata": {},
   "source": [
    "## Parameters and Arguments"
   ]
  },
  {
   "cell_type": "code",
   "execution_count": 12,
   "id": "168a9d46",
   "metadata": {},
   "outputs": [],
   "source": [
    "#parameter - The name we give to an expected input \n",
    "#Argument - The concrete value we provide to a parameter "
   ]
  },
  {
   "cell_type": "code",
   "execution_count": 13,
   "id": "1b5138d7",
   "metadata": {},
   "outputs": [
    {
     "data": {
      "text/plain": [
       "friday       apple\n",
       "saturday    orange\n",
       "sunday       mango\n",
       "dtype: object"
      ]
     },
     "execution_count": 13,
     "metadata": {},
     "output_type": "execute_result"
    }
   ],
   "source": [
    "fruits = ['apple', 'orange', ' mango']\n",
    "weekends = ['friday','saturday','sunday']\n",
    "\n",
    "pd.Series(data = fruits, index = weekends)"
   ]
  },
  {
   "cell_type": "markdown",
   "id": "da4b2450",
   "metadata": {},
   "source": [
    "## Import Series with pd.read_cvs Function"
   ]
  },
  {
   "cell_type": "code",
   "execution_count": 14,
   "id": "a115116a",
   "metadata": {},
   "outputs": [],
   "source": [
    "movie_data = pd.read_csv('DigiDB_movelist.csv', usecols=[\"Move\"] ).squeeze()     #It will import a dataframe "
   ]
  },
  {
   "cell_type": "code",
   "execution_count": 15,
   "id": "1b0cec8c",
   "metadata": {},
   "outputs": [
    {
     "data": {
      "text/plain": [
       "0      Wolkenapalm I\n",
       "1     Wolkenapalm II\n",
       "2    Wolkenapalm III\n",
       "3      Burst Flame I\n",
       "4     Burst Flame II\n",
       "Name: Move, dtype: object"
      ]
     },
     "execution_count": 15,
     "metadata": {},
     "output_type": "execute_result"
    }
   ],
   "source": [
    "movie_data.head(5)"
   ]
  },
  {
   "cell_type": "code",
   "execution_count": 16,
   "id": "7a286e3c",
   "metadata": {},
   "outputs": [
    {
     "data": {
      "text/plain": [
       "382    Garuru Tomahawk\n",
       "383     Fist of Athena\n",
       "384     Supreme Cannon\n",
       "385    Dark Prominence\n",
       "386       Plasma Shoot\n",
       "Name: Move, dtype: object"
      ]
     },
     "execution_count": 16,
     "metadata": {},
     "output_type": "execute_result"
    }
   ],
   "source": [
    " movie_data.tail(5)"
   ]
  },
  {
   "cell_type": "markdown",
   "id": "b0295630",
   "metadata": {},
   "source": [
    "### Passing Series to Python's Build-in Functions "
   ]
  },
  {
   "cell_type": "code",
   "execution_count": 17,
   "id": "9456f6a0",
   "metadata": {},
   "outputs": [
    {
     "data": {
      "text/plain": [
       "387"
      ]
     },
     "execution_count": 17,
     "metadata": {},
     "output_type": "execute_result"
    }
   ],
   "source": [
    "len(movie_data)  #length of series "
   ]
  },
  {
   "cell_type": "code",
   "execution_count": 18,
   "id": "7f95eebf",
   "metadata": {},
   "outputs": [
    {
     "data": {
      "text/plain": [
       "pandas.core.series.Series"
      ]
     },
     "execution_count": 18,
     "metadata": {},
     "output_type": "execute_result"
    }
   ],
   "source": [
    "type(movie_data)"
   ]
  },
  {
   "cell_type": "code",
   "execution_count": 19,
   "id": "4b3f961b",
   "metadata": {},
   "outputs": [
    {
     "data": {
      "text/plain": [
       "'Acceleration Boost'"
      ]
     },
     "execution_count": 19,
     "metadata": {},
     "output_type": "execute_result"
    }
   ],
   "source": [
    "sorted(movie_data)\n",
    "dict(movie_data)\n",
    "max(movie_data)\n",
    "min(movie_data)"
   ]
  },
  {
   "cell_type": "code",
   "execution_count": 20,
   "id": "5b4f095a",
   "metadata": {},
   "outputs": [
    {
     "data": {
      "text/plain": [
       "128    Acceleration Boost\n",
       "118        Agility Charge\n",
       "360    Aguichant L\\E8vres\n",
       "162              Air Shot\n",
       "307      Amethyst Mandala\n",
       "Name: Move, dtype: object"
      ]
     },
     "execution_count": 20,
     "metadata": {},
     "output_type": "execute_result"
    }
   ],
   "source": [
    "movie_data.sort_values().head()"
   ]
  },
  {
   "cell_type": "code",
   "execution_count": 21,
   "id": "893540d7",
   "metadata": {},
   "outputs": [
    {
     "data": {
      "text/plain": [
       "0                  X-Heal\n",
       "1                  X-Aura\n",
       "2         Wyvern's Breath\n",
       "3         Wolkenapalm III\n",
       "4          Wolkenapalm II\n",
       "              ...        \n",
       "382      Amethyst Mandala\n",
       "383              Air Shot\n",
       "384    Aguichant L\\E8vres\n",
       "385        Agility Charge\n",
       "386    Acceleration Boost\n",
       "Name: Move, Length: 387, dtype: object"
      ]
     },
     "execution_count": 21,
     "metadata": {},
     "output_type": "execute_result"
    }
   ],
   "source": [
    "movie_data.sort_values(ascending=False, ignore_index=True)"
   ]
  },
  {
   "cell_type": "markdown",
   "id": "9c4f05ee",
   "metadata": {},
   "source": [
    "### Sort Index Method"
   ]
  },
  {
   "cell_type": "code",
   "execution_count": 22,
   "id": "813c9709",
   "metadata": {},
   "outputs": [],
   "source": [
    "movie_new_data = pd.read_csv('DigiDB_movelist.csv', index_col=\"Type\").squeeze(\"columns\")"
   ]
  },
  {
   "cell_type": "code",
   "execution_count": 23,
   "id": "3405e1a8",
   "metadata": {},
   "outputs": [
    {
     "data": {
      "text/html": [
       "<div>\n",
       "<style scoped>\n",
       "    .dataframe tbody tr th:only-of-type {\n",
       "        vertical-align: middle;\n",
       "    }\n",
       "\n",
       "    .dataframe tbody tr th {\n",
       "        vertical-align: top;\n",
       "    }\n",
       "\n",
       "    .dataframe thead th {\n",
       "        text-align: right;\n",
       "    }\n",
       "</style>\n",
       "<table border=\"1\" class=\"dataframe\">\n",
       "  <thead>\n",
       "    <tr style=\"text-align: right;\">\n",
       "      <th></th>\n",
       "      <th>Move</th>\n",
       "      <th>SP Cost</th>\n",
       "      <th>Power</th>\n",
       "      <th>Attribute</th>\n",
       "      <th>Inheritable</th>\n",
       "      <th>Description</th>\n",
       "    </tr>\n",
       "    <tr>\n",
       "      <th>Type</th>\n",
       "      <th></th>\n",
       "      <th></th>\n",
       "      <th></th>\n",
       "      <th></th>\n",
       "      <th></th>\n",
       "      <th></th>\n",
       "    </tr>\n",
       "  </thead>\n",
       "  <tbody>\n",
       "    <tr>\n",
       "      <th>Support</th>\n",
       "      <td>Chain Loss</td>\n",
       "      <td>8</td>\n",
       "      <td>0</td>\n",
       "      <td>Neutral</td>\n",
       "      <td>Yes</td>\n",
       "      <td>Reduce COMBO for one enemy by 100%.</td>\n",
       "    </tr>\n",
       "    <tr>\n",
       "      <th>Support</th>\n",
       "      <td>Chain Minus</td>\n",
       "      <td>4</td>\n",
       "      <td>0</td>\n",
       "      <td>Neutral</td>\n",
       "      <td>Yes</td>\n",
       "      <td>Reduce COMBO for one enemy by 50%.</td>\n",
       "    </tr>\n",
       "    <tr>\n",
       "      <th>Support</th>\n",
       "      <td>Speed Charge</td>\n",
       "      <td>6</td>\n",
       "      <td>0</td>\n",
       "      <td>Neutral</td>\n",
       "      <td>Yes</td>\n",
       "      <td>Increases SPD of one member by 10%.</td>\n",
       "    </tr>\n",
       "    <tr>\n",
       "      <th>Support</th>\n",
       "      <td>Speed Charge Field</td>\n",
       "      <td>20</td>\n",
       "      <td>0</td>\n",
       "      <td>Neutral</td>\n",
       "      <td>Yes</td>\n",
       "      <td>Increases SPD of all battle members by 10%.</td>\n",
       "    </tr>\n",
       "    <tr>\n",
       "      <th>Support</th>\n",
       "      <td>Hit Charge</td>\n",
       "      <td>6</td>\n",
       "      <td>0</td>\n",
       "      <td>Neutral</td>\n",
       "      <td>Yes</td>\n",
       "      <td>Increases ACC of one battle member by 10%.</td>\n",
       "    </tr>\n",
       "    <tr>\n",
       "      <th>...</th>\n",
       "      <td>...</td>\n",
       "      <td>...</td>\n",
       "      <td>...</td>\n",
       "      <td>...</td>\n",
       "      <td>...</td>\n",
       "      <td>...</td>\n",
       "    </tr>\n",
       "    <tr>\n",
       "      <th>Fixed</th>\n",
       "      <td>Death Claw</td>\n",
       "      <td>10</td>\n",
       "      <td>0</td>\n",
       "      <td>Neutral</td>\n",
       "      <td>No</td>\n",
       "      <td>Fixed damage of 200 to one foe. Absorbs 20% of...</td>\n",
       "    </tr>\n",
       "    <tr>\n",
       "      <th>Direct</th>\n",
       "      <td>Death Charm</td>\n",
       "      <td>10</td>\n",
       "      <td>0</td>\n",
       "      <td>Neutral</td>\n",
       "      <td>No</td>\n",
       "      <td>Reduce 10% HP from one enemy.</td>\n",
       "    </tr>\n",
       "    <tr>\n",
       "      <th>Direct</th>\n",
       "      <td>Chaos Degradation</td>\n",
       "      <td>25</td>\n",
       "      <td>0</td>\n",
       "      <td>Neutral</td>\n",
       "      <td>No</td>\n",
       "      <td>Reduces HP of all foes by 25%.</td>\n",
       "    </tr>\n",
       "    <tr>\n",
       "      <th>Direct</th>\n",
       "      <td>Revenge Flame</td>\n",
       "      <td>15</td>\n",
       "      <td>0</td>\n",
       "      <td>Neutral</td>\n",
       "      <td>No</td>\n",
       "      <td>Counterattack the enemy when you receive a phy...</td>\n",
       "    </tr>\n",
       "    <tr>\n",
       "      <th>Direct</th>\n",
       "      <td>Berserk Sword</td>\n",
       "      <td>15</td>\n",
       "      <td>0</td>\n",
       "      <td>Neutral</td>\n",
       "      <td>No</td>\n",
       "      <td>Inflict Death on one enemy. 30% accuracy.</td>\n",
       "    </tr>\n",
       "  </tbody>\n",
       "</table>\n",
       "<p>387 rows × 6 columns</p>\n",
       "</div>"
      ],
      "text/plain": [
       "                       Move  SP Cost  Power Attribute Inheritable  \\\n",
       "Type                                                                \n",
       "Support          Chain Loss        8      0   Neutral         Yes   \n",
       "Support         Chain Minus        4      0   Neutral         Yes   \n",
       "Support        Speed Charge        6      0   Neutral         Yes   \n",
       "Support  Speed Charge Field       20      0   Neutral         Yes   \n",
       "Support          Hit Charge        6      0   Neutral         Yes   \n",
       "...                     ...      ...    ...       ...         ...   \n",
       "Fixed            Death Claw       10      0   Neutral          No   \n",
       "Direct          Death Charm       10      0   Neutral          No   \n",
       "Direct    Chaos Degradation       25      0   Neutral          No   \n",
       "Direct        Revenge Flame       15      0   Neutral          No   \n",
       "Direct        Berserk Sword       15      0   Neutral          No   \n",
       "\n",
       "                                               Description  \n",
       "Type                                                        \n",
       "Support                Reduce COMBO for one enemy by 100%.  \n",
       "Support                 Reduce COMBO for one enemy by 50%.  \n",
       "Support                Increases SPD of one member by 10%.  \n",
       "Support        Increases SPD of all battle members by 10%.  \n",
       "Support         Increases ACC of one battle member by 10%.  \n",
       "...                                                    ...  \n",
       "Fixed    Fixed damage of 200 to one foe. Absorbs 20% of...  \n",
       "Direct                       Reduce 10% HP from one enemy.  \n",
       "Direct                      Reduces HP of all foes by 25%.  \n",
       "Direct   Counterattack the enemy when you receive a phy...  \n",
       "Direct           Inflict Death on one enemy. 30% accuracy.  \n",
       "\n",
       "[387 rows x 6 columns]"
      ]
     },
     "execution_count": 23,
     "metadata": {},
     "output_type": "execute_result"
    }
   ],
   "source": [
    "movie_new_data.sort_index(ascending=False)"
   ]
  },
  {
   "cell_type": "markdown",
   "id": "029fe385",
   "metadata": {},
   "source": [
    "### Check for inclusion with Python's in Keyword"
   ]
  },
  {
   "cell_type": "code",
   "execution_count": 24,
   "id": "8722b034",
   "metadata": {},
   "outputs": [],
   "source": [
    "#checking wheather a value exists or not "
   ]
  },
  {
   "cell_type": "code",
   "execution_count": 25,
   "id": "d64efcf3",
   "metadata": {},
   "outputs": [
    {
     "data": {
      "text/plain": [
       "0      Wolkenapalm I\n",
       "1     Wolkenapalm II\n",
       "2    Wolkenapalm III\n",
       "3      Burst Flame I\n",
       "4     Burst Flame II\n",
       "Name: Move, dtype: object"
      ]
     },
     "execution_count": 25,
     "metadata": {},
     "output_type": "execute_result"
    }
   ],
   "source": [
    "movie_data_2 = pd.read_csv('DigiDB_movelist.csv', usecols=[\"Move\"]).squeeze()\n",
    "movie_data_2.head()"
   ]
  },
  {
   "cell_type": "code",
   "execution_count": 26,
   "id": "7cce2639",
   "metadata": {},
   "outputs": [
    {
     "name": "stdout",
     "output_type": "stream",
     "text": [
      "Enter movie name: Wolkenapalm \n"
     ]
    },
    {
     "data": {
      "text/plain": [
       "False"
      ]
     },
     "execution_count": 26,
     "metadata": {},
     "output_type": "execute_result"
    }
   ],
   "source": [
    "name = input(\"Enter movie name: \")\n",
    "name in movie_data_2.values"
   ]
  },
  {
   "cell_type": "markdown",
   "id": "f06cd46f",
   "metadata": {},
   "source": [
    "### Extract series Vlaue by Index Position"
   ]
  },
  {
   "cell_type": "code",
   "execution_count": 31,
   "id": "8c64ae6f",
   "metadata": {},
   "outputs": [
    {
     "data": {
      "text/plain": [
       "0      Wolkenapalm I\n",
       "1     Wolkenapalm II\n",
       "2    Wolkenapalm III\n",
       "3      Burst Flame I\n",
       "4     Burst Flame II\n",
       "Name: Move, dtype: object"
      ]
     },
     "execution_count": 31,
     "metadata": {},
     "output_type": "execute_result"
    }
   ],
   "source": [
    "movie_data_2 = pd.read_csv('DigiDB_movelist.csv', usecols=[\"Move\"]).squeeze()\n",
    "movie_data_2.head()"
   ]
  },
  {
   "cell_type": "code",
   "execution_count": 32,
   "id": "91d0de52",
   "metadata": {},
   "outputs": [
    {
     "data": {
      "text/plain": [
       "2"
      ]
     },
     "execution_count": 32,
     "metadata": {},
     "output_type": "execute_result"
    }
   ],
   "source": [
    "numbers = [1,2,3,4]\n",
    "numbers[1]"
   ]
  },
  {
   "cell_type": "code",
   "execution_count": 35,
   "id": "096f00f2",
   "metadata": {},
   "outputs": [
    {
     "data": {
      "text/plain": [
       "'Wolkenapalm III'"
      ]
     },
     "execution_count": 35,
     "metadata": {},
     "output_type": "execute_result"
    }
   ],
   "source": [
    "movie_data_2[0]\n",
    "movie_data_2[2]"
   ]
  },
  {
   "cell_type": "code",
   "execution_count": 39,
   "id": "21d95abc",
   "metadata": {},
   "outputs": [
    {
     "name": "stdout",
     "output_type": "stream",
     "text": [
      "0    Wolkenapalm I\n",
      "Name: Move, dtype: object\n",
      "2    Wolkenapalm III\n",
      "Name: Move, dtype: object\n",
      "4    Burst Flame II\n",
      "Name: Move, dtype: object\n",
      "6    Meteor Fall I\n",
      "Name: Move, dtype: object\n",
      "8    Meteor Fall III\n",
      "Name: Move, dtype: object\n"
     ]
    }
   ],
   "source": [
    "for i in range(10):\n",
    "    if i%2 == 0:\n",
    "        print(movie_data_2[[i]])"
   ]
  },
  {
   "cell_type": "code",
   "execution_count": null,
   "id": "722b10d1",
   "metadata": {},
   "outputs": [],
   "source": []
  }
 ],
 "metadata": {
  "kernelspec": {
   "display_name": "Python 3 (ipykernel)",
   "language": "python",
   "name": "python3"
  },
  "language_info": {
   "codemirror_mode": {
    "name": "ipython",
    "version": 3
   },
   "file_extension": ".py",
   "mimetype": "text/x-python",
   "name": "python",
   "nbconvert_exporter": "python",
   "pygments_lexer": "ipython3",
   "version": "3.10.5"
  }
 },
 "nbformat": 4,
 "nbformat_minor": 5
}

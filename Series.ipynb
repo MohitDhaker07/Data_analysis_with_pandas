{
 "cells": [
  {
   "cell_type": "markdown",
   "id": "afcf651e",
   "metadata": {},
   "source": [
    "# Series"
   ]
  },
  {
   "cell_type": "code",
   "execution_count": 1,
   "id": "7c8817cd",
   "metadata": {},
   "outputs": [],
   "source": [
    "import pandas as pd\n",
    "import numpy as np"
   ]
  },
  {
   "cell_type": "markdown",
   "id": "061f05f6",
   "metadata": {},
   "source": [
    "### Creating a Series Object with a Python List "
   ]
  },
  {
   "cell_type": "code",
   "execution_count": 14,
   "id": "50702cbd",
   "metadata": {
    "scrolled": true
   },
   "outputs": [
    {
     "data": {
      "text/plain": [
       "0     mohit\n",
       "1     rohit\n",
       "2      alex\n",
       "3      paul\n",
       "4    steven\n",
       "5       ray\n",
       "dtype: object"
      ]
     },
     "execution_count": 14,
     "metadata": {},
     "output_type": "execute_result"
    }
   ],
   "source": [
    "names = ['mohit', 'rohit', 'alex', 'paul', 'steven', 'ray']\n",
    "pd.Series(names)"
   ]
  },
  {
   "cell_type": "markdown",
   "id": "6c9e1145",
   "metadata": {},
   "source": [
    "### Creating a Series Object with a Python Dictionary "
   ]
  },
  {
   "cell_type": "code",
   "execution_count": 15,
   "id": "a7aae55c",
   "metadata": {},
   "outputs": [
    {
     "data": {
      "text/plain": [
       "name       [mohit, alex, rohit]\n",
       "roll_no               [1, 2, 3]\n",
       "age                [10, 10, 10]\n",
       "dtype: object"
      ]
     },
     "execution_count": 15,
     "metadata": {},
     "output_type": "execute_result"
    }
   ],
   "source": [
    "students = {\n",
    "   \"name\" : ['mohit','alex', 'rohit'],\n",
    "    \"roll_no\" : [1,2,3],\n",
    "    \"age\" : [10,10,10]\n",
    "}\n",
    "\n",
    "pd.Series(students)"
   ]
  },
  {
   "cell_type": "markdown",
   "id": "4593155b",
   "metadata": {},
   "source": [
    "#### Some methods on series "
   ]
  },
  {
   "cell_type": "code",
   "execution_count": 17,
   "id": "4af5c47d",
   "metadata": {},
   "outputs": [
    {
     "data": {
      "text/plain": [
       "0    1.22\n",
       "1    2.65\n",
       "2    1.20\n",
       "dtype: float64"
      ]
     },
     "execution_count": 17,
     "metadata": {},
     "output_type": "execute_result"
    }
   ],
   "source": [
    "prices = pd.Series([1.22,2.65,1.2])\n",
    "prices"
   ]
  },
  {
   "cell_type": "code",
   "execution_count": 18,
   "id": "0861b456",
   "metadata": {},
   "outputs": [
    {
     "data": {
      "text/plain": [
       "5.07"
      ]
     },
     "execution_count": 18,
     "metadata": {},
     "output_type": "execute_result"
    }
   ],
   "source": [
    "prices.sum()"
   ]
  },
  {
   "cell_type": "code",
   "execution_count": 19,
   "id": "635a2d63",
   "metadata": {},
   "outputs": [
    {
     "data": {
      "text/plain": [
       "3.8795999999999995"
      ]
     },
     "execution_count": 19,
     "metadata": {},
     "output_type": "execute_result"
    }
   ],
   "source": [
    "prices.product()"
   ]
  },
  {
   "cell_type": "code",
   "execution_count": 21,
   "id": "30bd26c6",
   "metadata": {},
   "outputs": [
    {
     "data": {
      "text/plain": [
       "1.6900000000000002"
      ]
     },
     "execution_count": 21,
     "metadata": {},
     "output_type": "execute_result"
    }
   ],
   "source": [
    "prices.mean()"
   ]
  },
  {
   "cell_type": "markdown",
   "id": "2e24ed1f",
   "metadata": {},
   "source": [
    "### Intro to Attributes "
   ]
  },
  {
   "cell_type": "markdown",
   "id": "f17a7d18",
   "metadata": {},
   "source": [
    "Attributes are just static details about an object we do not execute them, where as methods are executable and have paranthesis at the end "
   ]
  },
  {
   "cell_type": "code",
   "execution_count": 22,
   "id": "cfe22871",
   "metadata": {
    "scrolled": false
   },
   "outputs": [
    {
     "data": {
      "text/plain": [
       "0       handsome\n",
       "1       charming\n",
       "2    intelligent\n",
       "dtype: object"
      ]
     },
     "execution_count": 22,
     "metadata": {},
     "output_type": "execute_result"
    }
   ],
   "source": [
    "adjectives = pd.Series(['handsome', 'charming', 'intelligent'])\n",
    "adjectives"
   ]
  },
  {
   "cell_type": "code",
   "execution_count": 23,
   "id": "1bfab5b1",
   "metadata": {},
   "outputs": [
    {
     "data": {
      "text/plain": [
       "3"
      ]
     },
     "execution_count": 23,
     "metadata": {},
     "output_type": "execute_result"
    }
   ],
   "source": [
    "adjectives.size"
   ]
  },
  {
   "cell_type": "code",
   "execution_count": 25,
   "id": "104ff1b2",
   "metadata": {},
   "outputs": [
    {
     "data": {
      "text/plain": [
       "True"
      ]
     },
     "execution_count": 25,
     "metadata": {},
     "output_type": "execute_result"
    }
   ],
   "source": [
    "adjectives.is_unique"
   ]
  },
  {
   "cell_type": "code",
   "execution_count": 26,
   "id": "fb9a530f",
   "metadata": {},
   "outputs": [
    {
     "data": {
      "text/plain": [
       "RangeIndex(start=0, stop=3, step=1)"
      ]
     },
     "execution_count": 26,
     "metadata": {},
     "output_type": "execute_result"
    }
   ],
   "source": [
    "adjectives.index"
   ]
  },
  {
   "cell_type": "markdown",
   "id": "9cab5dc9",
   "metadata": {},
   "source": [
    "## Parameters and Arguments"
   ]
  },
  {
   "cell_type": "code",
   "execution_count": 27,
   "id": "168a9d46",
   "metadata": {},
   "outputs": [],
   "source": [
    "#parameter - The name we give to an expected input \n",
    "#Argument - The concrete value we provide to a parameter "
   ]
  },
  {
   "cell_type": "code",
   "execution_count": 28,
   "id": "1b5138d7",
   "metadata": {},
   "outputs": [
    {
     "data": {
      "text/plain": [
       "friday       apple\n",
       "saturday    orange\n",
       "sunday       mango\n",
       "dtype: object"
      ]
     },
     "execution_count": 28,
     "metadata": {},
     "output_type": "execute_result"
    }
   ],
   "source": [
    "fruits = ['apple', 'orange', ' mango']\n",
    "weekends = ['friday','saturday','sunday']\n",
    "\n",
    "pd.Series(data = fruits, index = weekends)"
   ]
  },
  {
   "cell_type": "markdown",
   "id": "da4b2450",
   "metadata": {},
   "source": [
    "## Import Series with pd.read_cvs Function"
   ]
  },
  {
   "cell_type": "code",
   "execution_count": 42,
   "id": "a115116a",
   "metadata": {},
   "outputs": [],
   "source": [
    "movie_data = pd.read_csv('DigiDB_movelist.csv', usecols=[\"Move\"] ).squeeze()     #It will import a dataframe "
   ]
  },
  {
   "cell_type": "code",
   "execution_count": 43,
   "id": "1b0cec8c",
   "metadata": {},
   "outputs": [
    {
     "data": {
      "text/plain": [
       "0      Wolkenapalm I\n",
       "1     Wolkenapalm II\n",
       "2    Wolkenapalm III\n",
       "3      Burst Flame I\n",
       "4     Burst Flame II\n",
       "Name: Move, dtype: object"
      ]
     },
     "execution_count": 43,
     "metadata": {},
     "output_type": "execute_result"
    }
   ],
   "source": [
    "movie_data.head(5)"
   ]
  },
  {
   "cell_type": "code",
   "execution_count": 44,
   "id": "7a286e3c",
   "metadata": {},
   "outputs": [
    {
     "data": {
      "text/plain": [
       "382    Garuru Tomahawk\n",
       "383     Fist of Athena\n",
       "384     Supreme Cannon\n",
       "385    Dark Prominence\n",
       "386       Plasma Shoot\n",
       "Name: Move, dtype: object"
      ]
     },
     "execution_count": 44,
     "metadata": {},
     "output_type": "execute_result"
    }
   ],
   "source": [
    " movie_data.tail(5)"
   ]
  },
  {
   "cell_type": "markdown",
   "id": "b0295630",
   "metadata": {},
   "source": [
    "### Passing Series to Python's Build-in Functions "
   ]
  },
  {
   "cell_type": "code",
   "execution_count": 48,
   "id": "9456f6a0",
   "metadata": {},
   "outputs": [
    {
     "data": {
      "text/plain": [
       "387"
      ]
     },
     "execution_count": 48,
     "metadata": {},
     "output_type": "execute_result"
    }
   ],
   "source": [
    "len(movie_data)  #length of series "
   ]
  },
  {
   "cell_type": "code",
   "execution_count": 49,
   "id": "7f95eebf",
   "metadata": {},
   "outputs": [
    {
     "data": {
      "text/plain": [
       "pandas.core.series.Series"
      ]
     },
     "execution_count": 49,
     "metadata": {},
     "output_type": "execute_result"
    }
   ],
   "source": [
    "type(movie_data)"
   ]
  },
  {
   "cell_type": "code",
   "execution_count": 61,
   "id": "4b3f961b",
   "metadata": {},
   "outputs": [
    {
     "data": {
      "text/plain": [
       "'Acceleration Boost'"
      ]
     },
     "execution_count": 61,
     "metadata": {},
     "output_type": "execute_result"
    }
   ],
   "source": [
    "sorted(movie_data)\n",
    "dict(movie_data)\n",
    "max(movie_data)\n",
    "min(movie_data)"
   ]
  },
  {
   "cell_type": "code",
   "execution_count": 64,
   "id": "5b4f095a",
   "metadata": {},
   "outputs": [
    {
     "data": {
      "text/plain": [
       "128    Acceleration Boost\n",
       "118        Agility Charge\n",
       "360    Aguichant L\\E8vres\n",
       "162              Air Shot\n",
       "307      Amethyst Mandala\n",
       "Name: Move, dtype: object"
      ]
     },
     "execution_count": 64,
     "metadata": {},
     "output_type": "execute_result"
    }
   ],
   "source": [
    "movie_data.sort_values().head()"
   ]
  },
  {
   "cell_type": "code",
   "execution_count": 68,
   "id": "893540d7",
   "metadata": {},
   "outputs": [
    {
     "data": {
      "text/plain": [
       "0                  X-Heal\n",
       "1                  X-Aura\n",
       "2         Wyvern's Breath\n",
       "3         Wolkenapalm III\n",
       "4          Wolkenapalm II\n",
       "              ...        \n",
       "382      Amethyst Mandala\n",
       "383              Air Shot\n",
       "384    Aguichant L\\E8vres\n",
       "385        Agility Charge\n",
       "386    Acceleration Boost\n",
       "Name: Move, Length: 387, dtype: object"
      ]
     },
     "execution_count": 68,
     "metadata": {},
     "output_type": "execute_result"
    }
   ],
   "source": [
    "movie_data.sort_values(ascending=False, ignore_index=True)"
   ]
  },
  {
   "cell_type": "code",
   "execution_count": null,
   "id": "ae681c75",
   "metadata": {},
   "outputs": [],
   "source": []
  },
  {
   "cell_type": "code",
   "execution_count": null,
   "id": "9e3c9eb1",
   "metadata": {},
   "outputs": [],
   "source": []
  },
  {
   "cell_type": "code",
   "execution_count": null,
   "id": "7cce2639",
   "metadata": {},
   "outputs": [],
   "source": []
  },
  {
   "cell_type": "code",
   "execution_count": null,
   "id": "ba1ab333",
   "metadata": {},
   "outputs": [],
   "source": []
  },
  {
   "cell_type": "code",
   "execution_count": null,
   "id": "91d0de52",
   "metadata": {},
   "outputs": [],
   "source": []
  },
  {
   "cell_type": "code",
   "execution_count": null,
   "id": "096f00f2",
   "metadata": {},
   "outputs": [],
   "source": []
  }
 ],
 "metadata": {
  "kernelspec": {
   "display_name": "Python 3 (ipykernel)",
   "language": "python",
   "name": "python3"
  },
  "language_info": {
   "codemirror_mode": {
    "name": "ipython",
    "version": 3
   },
   "file_extension": ".py",
   "mimetype": "text/x-python",
   "name": "python",
   "nbconvert_exporter": "python",
   "pygments_lexer": "ipython3",
   "version": "3.10.5"
  }
 },
 "nbformat": 4,
 "nbformat_minor": 5
}
